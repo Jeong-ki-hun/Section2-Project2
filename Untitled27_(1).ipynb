{
  "nbformat": 4,
  "nbformat_minor": 0,
  "metadata": {
    "colab": {
      "name": "Untitled27 (1).ipynb",
      "private_outputs": true,
      "provenance": [],
      "include_colab_link": true
    },
    "kernelspec": {
      "name": "python3",
      "display_name": "Python 3"
    },
    "language_info": {
      "name": "python"
    }
  },
  "cells": [
    {
      "cell_type": "markdown",
      "metadata": {
        "id": "view-in-github",
        "colab_type": "text"
      },
      "source": [
        "<a href=\"https://colab.research.google.com/github/Jeong-ki-hun/Section2-Project2/blob/main/Untitled27_(1).ipynb\" target=\"_parent\"><img src=\"https://colab.research.google.com/assets/colab-badge.svg\" alt=\"Open In Colab\"/></a>"
      ]
    },
    {
      "cell_type": "code",
      "source": [
        "!sudo apt-get install -y fonts-nanum\n",
        "!sudo fc-cache -fv\n",
        "!rm ~/.cache/matplotlib -rf\n",
        "!pip install shap\n",
        "!pip install pdpbox\n",
        "!pip install category_encoders\n",
        "!pip install eli5"
      ],
      "metadata": {
        "id": "mJTnuUSN6BUq"
      },
      "execution_count": null,
      "outputs": []
    },
    {
      "cell_type": "code",
      "execution_count": null,
      "metadata": {
        "id": "HniBQcka5jxn"
      },
      "outputs": [],
      "source": [
        "import pandas as pd\n",
        "import numpy as np\n",
        "import seaborn as sns\n",
        "import matplotlib.pyplot as plt\n",
        "plt.style.use('ggplot')\n",
        "plt.rc('font', family='NanumBarunGothic') \n",
        "sns.set_style(\"whitegrid\")\n",
        "\n",
        "from sklearn.model_selection import train_test_split\n",
        "from sklearn.model_selection import GridSearchCV, RandomizedSearchCV\n",
        "from sklearn.preprocessing import StandardScaler, LabelEncoder\n",
        "from sklearn.linear_model import LogisticRegression\n",
        "from sklearn.linear_model import Ridge, Lasso\n",
        "from sklearn.ensemble import RandomForestRegressor\n",
        "from sklearn.svm import SVR\n",
        "from xgboost import XGBRegressor\n",
        "from sklearn.metrics import mean_squared_error\n",
        "from sklearn.metrics import r2_score\n",
        "from sklearn.metrics import plot_confusion_matrix\n",
        "import sklearn\n",
        "from sklearn.pipeline import make_pipeline, Pipeline\n",
        "from sklearn.model_selection import RandomizedSearchCV\n",
        "from sklearn.metrics import f1_score\n",
        "from sklearn.ensemble import RandomForestClassifier\n",
        "from sklearn.tree import DecisionTreeClassifier\n",
        "from sklearn.impute import SimpleImputer\n",
        "from category_encoders import OrdinalEncoder, OneHotEncoder\n",
        "from scipy.stats import randint, uniform\n",
        "from sklearn.metrics import accuracy_score\n",
        "from xgboost import XGBClassifier\n",
        "import shap"
      ]
    },
    {
      "cell_type": "code",
      "source": [
        "df = pd.read_csv('/content/weatherAUS.csv')\n",
        "df"
      ],
      "metadata": {
        "id": "DWCE5rs96LCP"
      },
      "execution_count": null,
      "outputs": []
    },
    {
      "cell_type": "code",
      "source": [
        "df.info()"
      ],
      "metadata": {
        "id": "Lq_X0Bv36exS"
      },
      "execution_count": null,
      "outputs": []
    },
    {
      "cell_type": "code",
      "source": [
        "df.isnull().sum()"
      ],
      "metadata": {
        "id": "8iGnQWIC8Pa0"
      },
      "execution_count": null,
      "outputs": []
    },
    {
      "cell_type": "code",
      "source": [
        "#전체 데이터프레임의 로우수중 결측치가 40%가 넘어가는 피처에대해서는 삭제를 진행하였습니다. \n",
        "#타켓값인 컬럼에대해 정확한 정보를 위해 결측치를 포함하는 로우를 삭제하였습니다.\n",
        "# 수치형 피처에는 평균값을 명목형 피처에는 최빈값을 사용하여 결측치를 대체하였습니다.\n",
        "# 명목형 피처의 결측치수가 전체의 10%수준으로 최빈값으로 대체하였고\n",
        "# 타켓변수의 정확한 정보를 위해 삭제를 진행하였습니다.\n",
        "df.drop(['Evaporation','Sunshine','Cloud9am','Cloud3pm'],axis=1,inplace=True)\n",
        "df = df.dropna(subset=['RainTomorrow'])\n",
        "df = df.fillna(df.mean())\n",
        "df.fillna({'WindDir9am':df['WindDir9am'].mode()[0],'WindDir3pm':df['WindDir3pm'].mode()[0],'WindGustDir':df['WindGustDir'].mode()[0]},inplace=True)\n",
        "df.drop(['Date','Location','RainToday'],axis=1,inplace=True)"
      ],
      "metadata": {
        "id": "3UibczCcMDT3"
      },
      "execution_count": null,
      "outputs": []
    },
    {
      "cell_type": "code",
      "source": [
        "df.isnull().sum()"
      ],
      "metadata": {
        "id": "Jf6PV4PNWSfu"
      },
      "execution_count": null,
      "outputs": []
    },
    {
      "cell_type": "code",
      "source": [
        "df['RainTomorrow'].value_counts(normalize = True)"
      ],
      "metadata": {
        "id": "GlOaOvMLfQ73"
      },
      "execution_count": null,
      "outputs": []
    },
    {
      "cell_type": "code",
      "source": [
        "#이제 함수를 사용하여 feature_engineering을 진행해보겠습니다.\n",
        "# 피처엔지니어링을 진행할 피처는 오전과 오후로 나누어져있는 수치형 칼럼들의 정보를 합쳐 평균으로 새로운 피처를 만드는것입니다.\n",
        "def feature_engineering(df):\n",
        "    df_1 = df.copy()\n",
        "\n",
        "    df_1['WindSpeed'] = (df['WindSpeed9am']+df['WindSpeed3pm'])/2\n",
        "    df_1['Humidity'] = (df['Humidity9am']+df['Humidity3pm'])/2\n",
        "    df_1['Pressure'] = (df['Pressure9am']+df['Pressure3pm'])/2\n",
        "    df_1['Temp'] = (df['Temp9am']+df['Temp3pm'])/2\n",
        "\n",
        "\n",
        "    return df_1"
      ],
      "metadata": {
        "id": "kGZR1fiQWjF4"
      },
      "execution_count": null,
      "outputs": []
    },
    {
      "cell_type": "code",
      "source": [
        "df_eng = feature_engineering(df)"
      ],
      "metadata": {
        "id": "MO9O1dCIajaT"
      },
      "execution_count": null,
      "outputs": []
    },
    {
      "cell_type": "code",
      "source": [
        "# 이제 수치형 피처들이 합쳐졌으니 기존피처와 날짜 피처를를 제거하겠습니다.\n",
        "df_eng.drop(['WindSpeed9am','WindSpeed3pm','Humidity9am','Humidity3pm','Pressure9am','Pressure3pm','Temp9am','Temp3pm'],axis=1,inplace=True)"
      ],
      "metadata": {
        "id": "iLdgmqtXaqAD"
      },
      "execution_count": null,
      "outputs": []
    },
    {
      "cell_type": "code",
      "source": [
        "df_eng.head()"
      ],
      "metadata": {
        "id": "sF8BXo4fAp39"
      },
      "execution_count": null,
      "outputs": []
    },
    {
      "cell_type": "code",
      "source": [
        "df_eng.shape"
      ],
      "metadata": {
        "id": "UtUTECJsbN9J"
      },
      "execution_count": null,
      "outputs": []
    },
    {
      "cell_type": "code",
      "source": [
        "sns.countplot(x='RainTomorrow',data=df_eng)"
      ],
      "metadata": {
        "id": "fMbZXJf6Hud0"
      },
      "execution_count": null,
      "outputs": []
    },
    {
      "cell_type": "code",
      "source": [
        "df_eng['RainTomorrow'].value_counts(normalize = True)"
      ],
      "metadata": {
        "id": "LpSNbI0OHlg1"
      },
      "execution_count": null,
      "outputs": []
    },
    {
      "cell_type": "code",
      "source": [
        "#이제 훈련세트와 검증세트로 데이터를 나누겠습니다.\n",
        "\n",
        "train, val = train_test_split(df_eng, train_size = 0.8,random_state =2)\n",
        "\n",
        "train.shape,val.shape"
      ],
      "metadata": {
        "id": "UqQOPHWqaiWp"
      },
      "execution_count": null,
      "outputs": []
    },
    {
      "cell_type": "code",
      "source": [
        "# 나누어진 훈련데이터와 검증데이터를 X,Y로 나누겠습니다.\n",
        "target = 'RainTomorrow'\n",
        "features = train.drop(columns=[target]).columns\n",
        "\n",
        "X_train = train[features]\n",
        "y_train = train[target]\n",
        "X_val = val[features]\n",
        "y_val = val[target]\n",
        "\n",
        "X_train.shape,y_train.shape,X_val.shape,y_val.shape"
      ],
      "metadata": {
        "id": "IGMR7-7_XGNm"
      },
      "execution_count": null,
      "outputs": []
    },
    {
      "cell_type": "code",
      "source": [
        "plt.figure(figsize=(10,10))\n",
        "sns.heatmap(df_eng.corr().abs(),annot=True)"
      ],
      "metadata": {
        "id": "mcfhT56p_UJD"
      },
      "execution_count": null,
      "outputs": []
    },
    {
      "cell_type": "code",
      "source": [
        "pipe = make_pipeline(\n",
        "    OrdinalEncoder(), \n",
        "    RandomForestClassifier(n_estimators=100,random_state=2,n_jobs=-1))\n",
        "\n",
        "pipe.fit(X_train, y_train)\n",
        "print('검증 정확도:',pipe.score(X_val, y_val))\n",
        "y_val_pred = pipe.predict(X_val)\n",
        "print('F1:',f1_score(y_val, y_val_pred, pos_label = 'Yes'))"
      ],
      "metadata": {
        "id": "o7ezjXAIWuGG"
      },
      "execution_count": null,
      "outputs": []
    },
    {
      "cell_type": "code",
      "source": [
        "pipe_1 = make_pipeline(\n",
        "    OrdinalEncoder(),\n",
        "    LogisticRegression(random_state=2,n_jobs=-1))\n",
        "\n",
        "\n",
        "pipe_1.fit(X_train,y_train)\n",
        "print('검증 정확도:', pipe_1.score(X_val,y_val))\n",
        "y_val_pred_1 = pipe_1.predict(X_val)\n",
        "print('F1:',f1_score(y_val, y_val_pred_1, pos_label = 'Yes'))"
      ],
      "metadata": {
        "id": "l5LfU7liet56"
      },
      "execution_count": null,
      "outputs": []
    },
    {
      "cell_type": "code",
      "source": [
        "pipe_2 = make_pipeline(\n",
        "    OrdinalEncoder(),  \n",
        "    DecisionTreeClassifier(random_state=2)\n",
        ")\n",
        "\n",
        "pipe_2.fit(X_train, y_train)\n",
        "print('검증 정확도:', pipe_2.score(X_val, y_val))\n",
        "y_val_pred_2 = pipe_2.predict(X_val)\n",
        "print('F1:',f1_score(y_val, y_val_pred_2, pos_label = 'Yes'))"
      ],
      "metadata": {
        "id": "hGnE_ce8Kgva"
      },
      "execution_count": null,
      "outputs": []
    },
    {
      "cell_type": "code",
      "source": [
        "%time\n",
        "pipe_3 = make_pipeline(\n",
        "    OrdinalEncoder(),\n",
        "    RandomForestClassifier(random_state=2)\n",
        "    )\n",
        "\n",
        "\n",
        "dists = {\n",
        "    'randomforestclassifier__n_estimators': (50,100,150,200), \n",
        "    'randomforestclassifier__max_depth': [3,5,10], \n",
        "    'randomforestclassifier__class_weight':['balanced'],\n",
        "    'randomforestclassifier__max_features' : [3,5,10]}\n",
        "\n",
        "\n",
        "clf = RandomizedSearchCV(\n",
        "    pipe_3, \n",
        "    param_distributions=dists, \n",
        "    n_iter=2, \n",
        "    cv=5, \n",
        "    scoring='accuracy',\n",
        "    verbose =1,\n",
        "    n_jobs=-1,)\n",
        "\n",
        "clf.fit(X_train, y_train)"
      ],
      "metadata": {
        "id": "fTueU7yPxEDR"
      },
      "execution_count": null,
      "outputs": []
    },
    {
      "cell_type": "code",
      "source": [
        "from sklearn.metrics import accuracy_score\n",
        "print('최적 하이퍼파라미터: ', clf.best_params_)\n",
        "y_val_pred_3 = clf.predict(X_val)\n",
        "print('검증 정확도:', clf.best_score_)\n",
        "print('F1:',f1_score(y_val, y_val_pred_3, pos_label = 'Yes'))"
      ],
      "metadata": {
        "id": "4HUFta-5bsWh"
      },
      "execution_count": null,
      "outputs": []
    },
    {
      "cell_type": "code",
      "source": [
        "pipe_g = make_pipeline(\n",
        "    OrdinalEncoder(),\n",
        "    RandomForestClassifier(random_state=2))\n",
        "\n",
        "\n",
        "dists = {\n",
        "    'randomforestclassifier__n_estimators': (50,100), \n",
        "    'randomforestclassifier__max_depth': [7], \n",
        "    'randomforestclassifier__class_weight':['balanced'],\n",
        "    'randomforestclassifier__max_features' : [10]}\n",
        "\n",
        "\n",
        "grid= GridSearchCV(\n",
        "    pipe_g, \n",
        "    param_grid=dists, \n",
        "    cv=5, \n",
        "    scoring='accuracy',\n",
        "    verbose =1,\n",
        "    n_jobs=-1,)\n",
        "\n",
        "grid.fit(X_train, y_train)"
      ],
      "metadata": {
        "id": "R5oW31CYbpDR"
      },
      "execution_count": null,
      "outputs": []
    },
    {
      "cell_type": "code",
      "source": [
        "print('최적 하이퍼파라미터: ', grid.best_params_)\n",
        "y_val_pred_4 = grid.predict(X_val)\n",
        "print('검증 정확도:', grid.best_score_)\n",
        "print('F1:',f1_score(y_val, y_val_pred_4, pos_label = 'Yes'))"
      ],
      "metadata": {
        "id": "VExX1n00bq5D"
      },
      "execution_count": null,
      "outputs": []
    },
    {
      "cell_type": "code",
      "source": [
        "pipeline = clf.best_estimator_\n",
        "preprocess = make_pipeline(OrdinalEncoder())\n",
        "preprocess_pipeline = preprocess.fit_transform(X_train)\n",
        "model = RandomForestClassifier(n_estimators =100, max_features=10,max_depth =7, class_weight = 'balanced')\n",
        "model.fit(preprocess_pipeline,y_train)"
      ],
      "metadata": {
        "id": "WTWzDX3kIXcY"
      },
      "execution_count": null,
      "outputs": []
    },
    {
      "cell_type": "code",
      "source": [
        "encoder = OrdinalEncoder()\n",
        "X_val_encoded = encoder.fit_transform(X_val)"
      ],
      "metadata": {
        "id": "wH6yjIx5OJ4I"
      },
      "execution_count": null,
      "outputs": []
    },
    {
      "cell_type": "code",
      "source": [
        "row = X_val_encoded.iloc[[1]]\n",
        "row"
      ],
      "metadata": {
        "id": "t1qM6drPMs3M"
      },
      "execution_count": null,
      "outputs": []
    },
    {
      "cell_type": "code",
      "source": [
        "model.predict(row)"
      ],
      "metadata": {
        "id": "qCgG8tGmObNf"
      },
      "execution_count": null,
      "outputs": []
    },
    {
      "cell_type": "code",
      "source": [
        "explainer = shap.TreeExplainer(model)\n",
        "shap_values = explainer.shap_values(row)"
      ],
      "metadata": {
        "id": "qiicwnP1Qjik"
      },
      "execution_count": null,
      "outputs": []
    },
    {
      "cell_type": "code",
      "source": [
        "explainer.expected_value"
      ],
      "metadata": {
        "id": "umFiNR1pSWLV"
      },
      "execution_count": null,
      "outputs": []
    },
    {
      "cell_type": "code",
      "source": [
        "shap.initjs()\n",
        "shap_values = explainer.shap_values(X_val_encoded.iloc[:10000])\n",
        "shap.summary_plot(shap_values, X_val_encoded.iloc[:10000])"
      ],
      "metadata": {
        "id": "QiDk3Td5Qmc6"
      },
      "execution_count": null,
      "outputs": []
    }
  ]
}